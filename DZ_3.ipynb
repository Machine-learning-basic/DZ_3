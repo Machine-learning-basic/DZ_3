{
 "cells": [
  {
   "cell_type": "code",
   "execution_count": 1,
   "id": "14ae987c",
   "metadata": {},
   "outputs": [],
   "source": [
    "# Загружаем библиотеки\n",
    "import pandas as pd # Датафреймы pandas\n",
    "import numpy as np # Математика"
   ]
  },
  {
   "cell_type": "markdown",
   "id": "86615781",
   "metadata": {},
   "source": [
    "#### Исходные данные"
   ]
  },
  {
   "cell_type": "code",
   "execution_count": 174,
   "id": "353814b1",
   "metadata": {},
   "outputs": [],
   "source": [
    "# Линейная функция со случайным шумом\n",
    "N = 100\n",
    "theta0 = 10\n",
    "theta1 = 2\n",
    "X = np.random.uniform(low=0, high=100, size=N)\n",
    "Y = theta1*X + theta0 + np.random.normal(scale = 5, size = N)"
   ]
  },
  {
   "cell_type": "code",
   "execution_count": 156,
   "id": "34ff8338",
   "metadata": {},
   "outputs": [],
   "source": [
    "# Функция потерь\n",
    "def cost_function(X, y, theta0, theta1):\n",
    "    total_cost = 0\n",
    "    for i in range(len(X)):\n",
    "        total_cost += (theta0 + theta1*X[i] - y[i]) ** 2\n",
    "    return total_cost / (2 * len(X))"
   ]
  },
  {
   "cell_type": "code",
   "execution_count": 157,
   "id": "b9aea9d2",
   "metadata": {},
   "outputs": [],
   "source": [
    "# Производная по theta0\n",
    "def der_theta0(X, y, theta0, theta1):\n",
    "    total_cost = 0\n",
    "    for i in range(len(X)):\n",
    "        total_cost += (theta0 + theta1*X[i] - y[i])\n",
    "    return total_cost / (len(X))    "
   ]
  },
  {
   "cell_type": "code",
   "execution_count": 158,
   "id": "5a2cf0de",
   "metadata": {},
   "outputs": [],
   "source": [
    "# Производная по theta1\n",
    "def der_theta1(X, y, theta0, theta1):\n",
    "    total_cost = 0\n",
    "    for i in range(len(X)):\n",
    "        total_cost += (theta0 + theta1*X[i] - y[i]) * X[i]\n",
    "    return total_cost / (len(X))  "
   ]
  },
  {
   "cell_type": "markdown",
   "id": "3b3b42eb",
   "metadata": {},
   "source": [
    "#### Метод градиентного спуска"
   ]
  },
  {
   "cell_type": "code",
   "execution_count": 201,
   "id": "4698393a",
   "metadata": {},
   "outputs": [
    {
     "name": "stdout",
     "output_type": "stream",
     "text": [
      "Результат:\n",
      "theta0 = 9.509582723526954, theta1 = 2.0224064891472366, cost: 16.064418576267848\n",
      "Метод самый медленный\n"
     ]
    }
   ],
   "source": [
    "# Количество итераций\n",
    "epochs = 20000\n",
    "# Величина шага\n",
    "learning_rate = 0.0005\n",
    "\n",
    "# Начальные значения theta0 и theta1\n",
    "theta0 = 1\n",
    "theta1 = 1\n",
    "\n",
    "# Оптимизация методом градиентного спуска\n",
    "for i in range(epochs):\n",
    "    dt0 = der_theta0(X, Y, theta0, theta1)\n",
    "    dt1 = der_theta1(X, Y, theta0, theta1)\n",
    "    \n",
    "    theta0 -= learning_rate * dt0\n",
    "    theta1 -= learning_rate * dt1\n",
    "    \n",
    "#     print(f'i = {i} theta0: {theta0}, theta1: {theta1}, cost: {cost_function(X, Y, theta0, theta1)}')\n",
    "\n",
    "print(f'Результат:\\ntheta0 = {theta0}, theta1 = {theta1}, cost: {cost_function(X, Y, theta0, theta1)}')\n",
    "print('Метод самый медленный')"
   ]
  },
  {
   "cell_type": "markdown",
   "id": "73822a83",
   "metadata": {},
   "source": [
    "#### Метод nesterov momentum"
   ]
  },
  {
   "cell_type": "code",
   "execution_count": 203,
   "id": "409c2b6f",
   "metadata": {},
   "outputs": [
    {
     "name": "stdout",
     "output_type": "stream",
     "text": [
      "Результат:\n",
      "theta0 = 9.522810113255904, theta1 = 2.022205960125536, cost: 16.06259926599937\n",
      "Метод быстрее по сравнению с градиентным спуском\n"
     ]
    }
   ],
   "source": [
    "# Количество итераций\n",
    "epochs = 2000\n",
    "# Величина шага\n",
    "learning_rate = 0.0005\n",
    "\n",
    "# Начальные значения theta0 и theta1\n",
    "theta0 = 1\n",
    "theta1 = 1\n",
    "\n",
    "# Начальные значения коэффициентов nesterov momentuт\n",
    "gamma = 0.9\n",
    "vt0 = 0\n",
    "vt1 = 0\n",
    "\n",
    "# Оптимизация методом nesterov momentuт\n",
    "for i in range(epochs):\n",
    "    dt0 = der_theta0(X, Y, theta0, theta1)\n",
    "    dt1 = der_theta1(X, Y, theta0, theta1)\n",
    "    \n",
    "    vt0 = gamma * vt0 + learning_rate * dt0\n",
    "    vt1 = gamma * vt1 + learning_rate * dt1\n",
    "    \n",
    "    theta0 -= vt0\n",
    "    theta1 -= vt1\n",
    "    \n",
    "#     print(f'i = {i} theta0: {theta0}, theta1: {theta1}, cost: {cost_function(X, Y, theta0, theta1)}')\n",
    "\n",
    "print(f'Результат:\\ntheta0 = {theta0}, theta1 = {theta1}, cost: {cost_function(X, Y, theta0, theta1)}')\n",
    "print('Метод быстрее по сравнению с градиентным спуском')"
   ]
  },
  {
   "cell_type": "markdown",
   "id": "eaefa6ba",
   "metadata": {},
   "source": [
    "#### Метод rmsprop"
   ]
  },
  {
   "cell_type": "code",
   "execution_count": 205,
   "id": "83e3d0d2",
   "metadata": {},
   "outputs": [
    {
     "name": "stdout",
     "output_type": "stream",
     "text": [
      "Результат:\n",
      "theta0 = 9.934016879817532, theta1 = 1.965214081076461, cost: 19.989875089560993\n",
      "Метод самый быстрый из рассмотренных\n"
     ]
    }
   ],
   "source": [
    "# Количество итераций\n",
    "epochs = 1000\n",
    "# Величина шага\n",
    "learning_rate = 0.1\n",
    "\n",
    "# Начальные значения theta0 и theta1\n",
    "theta0 = 1\n",
    "theta1 = 1\n",
    "\n",
    "# Начальные значения коэффициентов rmsprop\n",
    "gamma = 0.9\n",
    "eps = 0.001\n",
    "EG0 = 0\n",
    "EG1 = 0\n",
    "\n",
    "# Оптимизация методом rmsprop\n",
    "for i in range(epochs):\n",
    "    dt0 = der_theta0(X, Y, theta0, theta1)\n",
    "    dt1 = der_theta1(X, Y, theta0, theta1)\n",
    "    \n",
    "    EG0 = gamma * EG0 + (1 - gamma) * dt0 ** 2\n",
    "    EG1 = gamma * EG1 + (1 - gamma) * dt1 ** 2\n",
    "    \n",
    "    theta0 -= dt0 * learning_rate / (EG0 + eps) ** 0.5\n",
    "    theta1 -= dt1 * learning_rate / (EG1 + eps) ** 0.5\n",
    "    \n",
    "#     print(f'i = {i} theta0: {theta0}, theta1: {theta1}, cost: {cost_function(X, Y, theta0, theta1)}')\n",
    "\n",
    "print(f'Результат:\\ntheta0 = {theta0}, theta1 = {theta1}, cost: {cost_function(X, Y, theta0, theta1)}')\n",
    "print('Метод самый быстрый из рассмотренных')"
   ]
  }
 ],
 "metadata": {
  "kernelspec": {
   "display_name": "Python 3",
   "language": "python",
   "name": "python3"
  },
  "language_info": {
   "codemirror_mode": {
    "name": "ipython",
    "version": 3
   },
   "file_extension": ".py",
   "mimetype": "text/x-python",
   "name": "python",
   "nbconvert_exporter": "python",
   "pygments_lexer": "ipython3",
   "version": "3.8.8"
  }
 },
 "nbformat": 4,
 "nbformat_minor": 5
}
